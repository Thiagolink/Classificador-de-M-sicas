{
 "cells": [
  {
   "cell_type": "code",
   "execution_count": 2,
   "metadata": {},
   "outputs": [
    {
     "name": "stdout",
     "output_type": "stream",
     "text": [
      "Collecting spotipy\n",
      "  Downloading https://files.pythonhosted.org/packages/59/46/3c957255c96910a8a0e2d9c25db1de51a8676ebba01d7966bedc6e748822/spotipy-2.4.4.tar.gz\n",
      "Requirement already satisfied: requests>=1.0 in d:\\users\\tt200\\desktop\\anaconda3\\lib\\site-packages (from spotipy) (2.22.0)\n",
      "Requirement already satisfied: idna<2.9,>=2.5 in d:\\users\\tt200\\desktop\\anaconda3\\lib\\site-packages (from requests>=1.0->spotipy) (2.8)\n",
      "Requirement already satisfied: urllib3!=1.25.0,!=1.25.1,<1.26,>=1.21.1 in d:\\users\\tt200\\desktop\\anaconda3\\lib\\site-packages (from requests>=1.0->spotipy) (1.24.2)\n",
      "Requirement already satisfied: chardet<3.1.0,>=3.0.2 in d:\\users\\tt200\\desktop\\anaconda3\\lib\\site-packages (from requests>=1.0->spotipy) (3.0.4)\n",
      "Requirement already satisfied: certifi>=2017.4.17 in d:\\users\\tt200\\desktop\\anaconda3\\lib\\site-packages (from requests>=1.0->spotipy) (2019.6.16)\n",
      "Building wheels for collected packages: spotipy\n",
      "  Building wheel for spotipy (setup.py): started\n",
      "  Building wheel for spotipy (setup.py): finished with status 'done'\n",
      "  Created wheel for spotipy: filename=spotipy-2.4.4-cp37-none-any.whl size=12339 sha256=aeb6139e1e80c5a2f9152466d232b9e6efa8dd0b278db1941046d056f2a96c19\n",
      "  Stored in directory: C:\\Users\\tt200\\AppData\\Local\\pip\\Cache\\wheels\\76\\28\\19\\a86ca9bb0e32dbd4a4f580870250f5aeef852870578e0427e6\n",
      "Successfully built spotipy\n",
      "Installing collected packages: spotipy\n",
      "Successfully installed spotipy-2.4.4\n"
     ]
    }
   ],
   "source": [
    "import sys\n",
    "!{sys.executable} -m pip install spotipy"
   ]
  },
  {
   "cell_type": "code",
   "execution_count": 3,
   "metadata": {},
   "outputs": [
    {
     "name": "stderr",
     "output_type": "stream",
     "text": [
      "D:\\Users\\tt200\\Desktop\\Anaconda3\\lib\\importlib\\_bootstrap.py:219: RuntimeWarning: numpy.ufunc size changed, may indicate binary incompatibility. Expected 192 from C header, got 216 from PyObject\n",
      "  return f(*args, **kwds)\n",
      "D:\\Users\\tt200\\Desktop\\Anaconda3\\lib\\importlib\\_bootstrap.py:219: RuntimeWarning: numpy.ufunc size changed, may indicate binary incompatibility. Expected 192 from C header, got 216 from PyObject\n",
      "  return f(*args, **kwds)\n",
      "D:\\Users\\tt200\\Desktop\\Anaconda3\\lib\\importlib\\_bootstrap.py:219: RuntimeWarning: numpy.ufunc size changed, may indicate binary incompatibility. Expected 216, got 192\n",
      "  return f(*args, **kwds)\n",
      "D:\\Users\\tt200\\Desktop\\Anaconda3\\lib\\importlib\\_bootstrap.py:219: RuntimeWarning: numpy.ufunc size changed, may indicate binary incompatibility. Expected 192 from C header, got 216 from PyObject\n",
      "  return f(*args, **kwds)\n"
     ]
    }
   ],
   "source": [
    "import os\n",
    "import json\n",
    "import spotipy\n",
    "import pandas as pd\n",
    "import seaborn as sns\n",
    "import matplotlib.pyplot as plt\n",
    "from pprint import pprint\n",
    "import spotipy.util as util"
   ]
  },
  {
   "cell_type": "code",
   "execution_count": 3,
   "metadata": {
    "collapsed": true
   },
   "outputs": [
    {
     "name": "stdout",
     "output_type": "stream",
     "text": [
      "\n",
      "\n",
      "            User authentication requires interaction with your\n",
      "            web browser. Once you enter your credentials and\n",
      "            give authorization, you will be redirected to\n",
      "            a url.  Paste that url you were directed to to\n",
      "            complete the authorization.\n",
      "\n",
      "        \n",
      "Opened https://accounts.spotify.com/authorize?client_id=c0b97bcff99e46f988e7800b4433c65d&response_type=code&redirect_uri=http%3A%2F%2Flocalhost%2F&scope=playlist-modify-private+playlist-modify-public+playlist-read-private+user-library-read+user-top-read in your browser\n",
      "\n",
      "\n",
      "Enter the URL you were redirected to: http://localhost/?code=AQCkJcbRa6KxrvS3InzcMSIWhxCZyvdCCQHsCETfRZFPhULj1bVXHoi516y1fLYdM08UYDubyHlKTOq59slUJ8m6p-5UTEcLM4K7h5JUd8pLChtuaL3Knf5mikl2_wzvLjY5v9ss2LOFgKrt42hiIzLHQHWlt_i1uuyiRzxiIVkF-VQEWgPngjMeSOZYPHmuSbrWeTSSM5II-10IVPbh0Ex7XvWeRQHxmDiY0tB-PtY8kSGinlI8Av3SeUT6vhYwby-vmDbjiXfZVXyiM0BxhDySv_31Cc16FdBWIohEfDYV69Uen3Kc6qFAawIXQnahexqI\n",
      "\n",
      "\n"
     ]
    },
    {
     "data": {
      "text/html": [
       "<div>\n",
       "<style scoped>\n",
       "    .dataframe tbody tr th:only-of-type {\n",
       "        vertical-align: middle;\n",
       "    }\n",
       "\n",
       "    .dataframe tbody tr th {\n",
       "        vertical-align: top;\n",
       "    }\n",
       "\n",
       "    .dataframe thead th {\n",
       "        text-align: right;\n",
       "    }\n",
       "</style>\n",
       "<table border=\"1\" class=\"dataframe\">\n",
       "  <thead>\n",
       "    <tr style=\"text-align: right;\">\n",
       "      <th></th>\n",
       "      <th>id</th>\n",
       "      <th>genero</th>\n",
       "    </tr>\n",
       "  </thead>\n",
       "  <tbody>\n",
       "    <tr>\n",
       "      <td>0</td>\n",
       "      <td>0PuxFPoTO5Ox8JLxO7JuZX</td>\n",
       "      <td>classical</td>\n",
       "    </tr>\n",
       "    <tr>\n",
       "      <td>1</td>\n",
       "      <td>4O0Yww5OIWyfBvWn6xN3CM</td>\n",
       "      <td>classical</td>\n",
       "    </tr>\n",
       "    <tr>\n",
       "      <td>2</td>\n",
       "      <td>0qkMYjXnxz91fEnnuMZNi0</td>\n",
       "      <td>classical</td>\n",
       "    </tr>\n",
       "    <tr>\n",
       "      <td>3</td>\n",
       "      <td>3hO3haFBsrcCzIFd6HJXnj</td>\n",
       "      <td>classical</td>\n",
       "    </tr>\n",
       "    <tr>\n",
       "      <td>4</td>\n",
       "      <td>0IbYGw9FH74pBQvj53Xk8l</td>\n",
       "      <td>classical</td>\n",
       "    </tr>\n",
       "    <tr>\n",
       "      <td>...</td>\n",
       "      <td>...</td>\n",
       "      <td>...</td>\n",
       "    </tr>\n",
       "    <tr>\n",
       "      <td>13995</td>\n",
       "      <td>6mqtalFyb8gk4RTMvXlS91</td>\n",
       "      <td>reggae</td>\n",
       "    </tr>\n",
       "    <tr>\n",
       "      <td>13996</td>\n",
       "      <td>6TRFUqFfQZC9Ali0Ttgg1g</td>\n",
       "      <td>reggae</td>\n",
       "    </tr>\n",
       "    <tr>\n",
       "      <td>13997</td>\n",
       "      <td>46oKpr00CmuPJGvPZ3y9uk</td>\n",
       "      <td>reggae</td>\n",
       "    </tr>\n",
       "    <tr>\n",
       "      <td>13998</td>\n",
       "      <td>65V07rC9ZIUvsPRCpIfVXo</td>\n",
       "      <td>reggae</td>\n",
       "    </tr>\n",
       "    <tr>\n",
       "      <td>13999</td>\n",
       "      <td>4w3ShB0eIy413T8XbGYuPx</td>\n",
       "      <td>reggae</td>\n",
       "    </tr>\n",
       "  </tbody>\n",
       "</table>\n",
       "<p>14000 rows × 2 columns</p>\n",
       "</div>"
      ],
      "text/plain": [
       "                           id     genero\n",
       "0      0PuxFPoTO5Ox8JLxO7JuZX  classical\n",
       "1      4O0Yww5OIWyfBvWn6xN3CM  classical\n",
       "2      0qkMYjXnxz91fEnnuMZNi0  classical\n",
       "3      3hO3haFBsrcCzIFd6HJXnj  classical\n",
       "4      0IbYGw9FH74pBQvj53Xk8l  classical\n",
       "...                       ...        ...\n",
       "13995  6mqtalFyb8gk4RTMvXlS91     reggae\n",
       "13996  6TRFUqFfQZC9Ali0Ttgg1g     reggae\n",
       "13997  46oKpr00CmuPJGvPZ3y9uk     reggae\n",
       "13998  65V07rC9ZIUvsPRCpIfVXo     reggae\n",
       "13999  4w3ShB0eIy413T8XbGYuPx     reggae\n",
       "\n",
       "[14000 rows x 2 columns]"
      ]
     },
     "execution_count": 3,
     "metadata": {},
     "output_type": "execute_result"
    }
   ],
   "source": [
    "client_id='c0b97bcff99e46f988e7800b4433c65d'\n",
    "client_secret='d8fe17a88bef4a22a21e191db98c29dc'\n",
    "redirect_uri='http://localhost/'  \n",
    "username =''\n",
    "scope = 'user-library-read playlist-read-private user-top-read playlist-modify-public playlist-modify-private'\n",
    "    \n",
    "token = util.prompt_for_user_token(username, scope, client_id, client_secret, redirect_uri)\n",
    "sp = spotipy.Spotify(auth=token)\n",
    "\n",
    "lista_generos= ['classical', 'rock', 'electronic', 'hip-hop', 'pop', 'indie', 'reggae']\n",
    "id_musica = []\n",
    "\n",
    "for genero in lista_generos:\n",
    "  for i in range(20):\n",
    "    value = sp.recommendations(seed_genres=[genero], limit= 100)\n",
    "    for j in range(100):\n",
    "      id_musica.append([value['tracks'][j]['id'], genero])\n",
    "  \n",
    "df = pd.DataFrame(id_musica, columns=['id', 'genero'])\n",
    "df\n"
   ]
  },
  {
   "cell_type": "code",
   "execution_count": null,
   "metadata": {},
   "outputs": [],
   "source": [
    "atributos = []\n",
    "for index, row in df.iterrows():\n",
    "  atributos.append(row['id'])\n",
    "\n",
    "valores = []\n",
    "\n",
    "for i in range(len(atributos)):\n",
    "  valores.append(sp.audio_features(atributos[i])[0])"
   ]
  },
  {
   "cell_type": "markdown",
   "metadata": {},
   "source": [
    "Olhar isso aqui: https://stackoverflow.com/questions/2083987/how-to-retry-after-exception"
   ]
  },
  {
   "cell_type": "code",
   "execution_count": 25,
   "metadata": {
    "scrolled": true
   },
   "outputs": [],
   "source": [
    "df = pd.read_csv('df.csv')\n",
    "#df = df[df['genero'] != 'pop']\n",
    "\n",
    "df['genero'] = df.genero.astype('category')"
   ]
  },
  {
   "cell_type": "markdown",
   "metadata": {},
   "source": [
    "# Exploração dos dados"
   ]
  },
  {
   "cell_type": "code",
   "execution_count": null,
   "metadata": {},
   "outputs": [],
   "source": []
  },
  {
   "cell_type": "code",
   "execution_count": null,
   "metadata": {},
   "outputs": [],
   "source": []
  },
  {
   "cell_type": "code",
   "execution_count": null,
   "metadata": {},
   "outputs": [],
   "source": []
  },
  {
   "cell_type": "markdown",
   "metadata": {},
   "source": [
    "# Seleção de Atributos"
   ]
  },
  {
   "cell_type": "markdown",
   "metadata": {},
   "source": [
    "## Correlação"
   ]
  },
  {
   "cell_type": "code",
   "execution_count": 5,
   "metadata": {},
   "outputs": [
    {
     "data": {
      "image/png": "[encoded data removed]",
      "text/plain": [
       "<Figure size 3600x720 with 2 Axes>"
      ]
     },
     "metadata": {
      "needs_background": "light"
     },
     "output_type": "display_data"
    }
   ],
   "source": [
    "plt.rcParams[\"figure.figsize\"] = (50,10)\n",
    "\n",
    "ax = sns.heatmap(\n",
    "    df.corr(), \n",
    "    vmin=-1, vmax=1, center=0,\n",
    "    cmap=sns.diverging_palette(20, 220, n=200),\n",
    "    square=True\n",
    ")\n",
    "ax.set_xticklabels(\n",
    "    ax.get_xticklabels(),\n",
    "    rotation=45,\n",
    "    horizontalalignment='right'\n",
    ");"
   ]
  },
  {
   "cell_type": "markdown",
   "metadata": {},
   "source": [
    "# Modelos Supervisionados"
   ]
  },
  {
   "cell_type": "markdown",
   "metadata": {},
   "source": [
    "## Preparando os dados para colocar nos modelos"
   ]
  },
  {
   "cell_type": "markdown",
   "metadata": {},
   "source": [
    "### Divisão entre conjunto de treinamento e de teste"
   ]
  },
  {
   "cell_type": "code",
   "execution_count": 20,
   "metadata": {},
   "outputs": [],
   "source": [
    "from sklearn.model_selection import train_test_split\n",
    "X = df.iloc[:, [1, 10]].values\n",
    "y = df.iloc[:, 0].values\n",
    "X_train, X_test, y_train, y_test = train_test_split(X, y, test_size = 0.25, random_state = 0)"
   ]
  },
  {
   "cell_type": "markdown",
   "metadata": {},
   "source": [
    "### Normalização dos Dados"
   ]
  },
  {
   "cell_type": "code",
   "execution_count": 8,
   "metadata": {},
   "outputs": [],
   "source": [
    "from sklearn.preprocessing import StandardScaler\n",
    "sc = StandardScaler()\n",
    "#X_train = sc.fit_transform(X_train)\n",
    "#X_test = sc.transform(X_test)"
   ]
  },
  {
   "cell_type": "markdown",
   "metadata": {},
   "source": [
    "### Pipeline"
   ]
  },
  {
   "cell_type": "code",
   "execution_count": 10,
   "metadata": {},
   "outputs": [],
   "source": [
    "from sklearn.pipeline import Pipeline"
   ]
  },
  {
   "cell_type": "markdown",
   "metadata": {},
   "source": [
    "### GridSearch"
   ]
  },
  {
   "cell_type": "code",
   "execution_count": 15,
   "metadata": {},
   "outputs": [],
   "source": [
    "from sklearn.model_selection import GridSearchCV"
   ]
  },
  {
   "cell_type": "markdown",
   "metadata": {},
   "source": [
    "### Classification Report"
   ]
  },
  {
   "cell_type": "code",
   "execution_count": 17,
   "metadata": {},
   "outputs": [],
   "source": [
    "from sklearn.metrics import classification_report"
   ]
  },
  {
   "cell_type": "markdown",
   "metadata": {},
   "source": [
    "## K-NN"
   ]
  },
  {
   "cell_type": "markdown",
   "metadata": {},
   "source": [
    "(Old)Não é possível usar o Pipeline do Sklearn, pois é necessário que o classficador tenha o método transform "
   ]
  },
  {
   "cell_type": "markdown",
   "metadata": {},
   "source": [
    "### Um de cada vez"
   ]
  },
  {
   "cell_type": "code",
   "execution_count": 33,
   "metadata": {},
   "outputs": [
    {
     "data": {
      "text/plain": [
       "<matplotlib.axes._subplots.AxesSubplot at 0x22af3b34898>"
      ]
     },
     "execution_count": 33,
     "metadata": {},
     "output_type": "execute_result"
    },
    {
     "data": {
      "image/png": "[encoded data removed]",
      "text/plain": [
       "<Figure size 720x504 with 2 Axes>"
      ]
     },
     "metadata": {
      "needs_background": "light"
     },
     "output_type": "display_data"
    }
   ],
   "source": [
    "from sklearn.neighbors import KNeighborsClassifier\n",
    "classifier = KNeighborsClassifier(n_neighbors=5, metric = 'minkowski', p = 2)\n",
    "classifier.fit(X_train, y_train)\n",
    "\n",
    "\n",
    "# Predicting the Test set results\n",
    "y_pred = classifier.predict(X_test)\n",
    "\n",
    "# Making the Confusion Matrix\n",
    "from sklearn.metrics import confusion_matrix\n",
    "cm = confusion_matrix(y_test, y_pred)\n",
    "cm\n",
    "\n",
    "df_cm = pd.DataFrame(cm, index = ['classical', 'eletronic', 'hip-hop', 'indie', 'pop', 'reggae', 'rock'],\n",
    "                  columns = ['classical', 'eletronic', 'hip-hop', 'indie', 'pop', 'reggae', 'rock'])\n",
    "plt.figure(figsize = (10,7))\n",
    "sns.heatmap(df_cm, annot=True)"
   ]
  },
  {
   "cell_type": "markdown",
   "metadata": {},
   "source": [
    "### Fazendo um Pipeline"
   ]
  },
  {
   "cell_type": "code",
   "execution_count": 21,
   "metadata": {},
   "outputs": [
    {
     "name": "stdout",
     "output_type": "stream",
     "text": [
      "Accuracy with Scaling: 0.3275290215588723\n",
      "Accuracy without Scaling: 0.32918739635157546\n"
     ]
    }
   ],
   "source": []
  },
  {
   "cell_type": "code",
   "execution_count": null,
   "metadata": {},
   "outputs": [],
   "source": [
    "from sklearn.neighbors import KNeighborsClassifier\n",
    "\n",
    "steps = [('scaler', StandardScaler()),\n",
    "        ('knn', KNeighborsClassifier())]\n",
    "\n",
    "pipeline = Pipeline(steps)\n",
    "\n",
    "parameters = {'knn__n_neighbors':[5,10,15,20,25]}\n",
    "\n",
    "# Fit the pipeline to the training set: knn_scaled\n",
    "knn_scaled = pipeline.fit(X_train, y_train)\n",
    "\n",
    "# Instantiate and fit a k-NN classifier to the unscaled data\n",
    "knn_unscaled = KNeighborsClassifier().fit(X_train, y_train)\n",
    "\n",
    "# Compute and print metrics\n",
    "print('Accuracy with Scaling: {}'.format(knn_scaled.score(X_test, y_test)))\n",
    "print('Accuracy without Scaling: {}'.format(knn_unscaled.score(X_test, y_test)))"
   ]
  },
  {
   "cell_type": "code",
   "execution_count": 26,
   "metadata": {},
   "outputs": [
    {
     "name": "stdout",
     "output_type": "stream",
     "text": [
      "Accuracy: 0.36318407960199006\n",
      "              precision    recall  f1-score   support\n",
      "\n",
      "   classical       0.82      0.94      0.88       126\n",
      "  electronic       0.31      0.34      0.32       181\n",
      "     hip-hop       0.23      0.21      0.22       196\n",
      "       indie       0.29      0.21      0.24       185\n",
      "         pop       0.21      0.20      0.20       182\n",
      "      reggae       0.38      0.55      0.45       147\n",
      "        rock       0.37      0.32      0.35       189\n",
      "\n",
      "   micro avg       0.36      0.36      0.36      1206\n",
      "   macro avg       0.37      0.40      0.38      1206\n",
      "weighted avg       0.35      0.36      0.35      1206\n",
      "\n",
      "Tuned Model Parameters: {'knn__n_neighbors': 20}\n"
     ]
    }
   ],
   "source": [
    "steps = [('scaler', StandardScaler()),\n",
    "        ('knn', KNeighborsClassifier())]\n",
    "\n",
    "pipeline = Pipeline(steps)\n",
    "\n",
    "parameters = {'knn__n_neighbors':[5,10,15,20,25]}\n",
    "\n",
    "cv = GridSearchCV(pipeline, param_grid=parameters, cv=5)\n",
    "\n",
    "# Fit to the training set\n",
    "cv.fit(X_train,y_train)\n",
    "\n",
    "# Predict the labels of the test set: y_pred\n",
    "y_pred = cv.predict(X_test)\n",
    "\n",
    "# Compute and print metrics\n",
    "print(\"Accuracy: {}\".format(cv.score(X_test, y_test)))\n",
    "print(classification_report(y_test, y_pred))\n",
    "print(\"Tuned Model Parameters: {}\".format(cv.best_params_))"
   ]
  },
  {
   "cell_type": "markdown",
   "metadata": {},
   "source": [
    "## Árvore de Decisão"
   ]
  },
  {
   "cell_type": "code",
   "execution_count": null,
   "metadata": {},
   "outputs": [],
   "source": []
  },
  {
   "cell_type": "markdown",
   "metadata": {},
   "source": [
    "## Naive Bayes"
   ]
  },
  {
   "cell_type": "code",
   "execution_count": null,
   "metadata": {},
   "outputs": [],
   "source": []
  },
  {
   "cell_type": "markdown",
   "metadata": {},
   "source": [
    "## MLP"
   ]
  },
  {
   "cell_type": "code",
   "execution_count": null,
   "metadata": {},
   "outputs": [],
   "source": []
  },
  {
   "cell_type": "markdown",
   "metadata": {},
   "source": [
    "# Modelos Não Supervisionados"
   ]
  },
  {
   "cell_type": "code",
   "execution_count": null,
   "metadata": {},
   "outputs": [],
   "source": [
    "from sklearn.metrics import davies_bouldin_score\n",
    "\n",
    "from sklearn import metrics\n",
    "from sklearn.metrics import pairwise_distances\n",
    "import numpy as np\n",
    "import pandas as pd"
   ]
  },
  {
   "cell_type": "code",
   "execution_count": null,
   "metadata": {},
   "outputs": [],
   "source": [
    "df = pd.read_csv(\"df.csv\")\n",
    "\n",
    "X = df.iloc[:, 1:].values\n",
    "\n",
    "X"
   ]
  },
  {
   "cell_type": "code",
   "execution_count": null,
   "metadata": {},
   "outputs": [],
   "source": [
    "from sklearn.cluster import KMeans\n",
    "dataFrame_davies_kmeans = pd.DataFrame(columns=['mean', 'std', 'n_clusters'])\n",
    "dataFrame_silhouette_kmeans = pd.DataFrame(columns=['mean', 'std', 'n_clusters'])\n",
    "\n",
    "list_davies_kmeans = []\n",
    "list_silhouette_kmeans = []\n",
    "for i in range(19):\n",
    "    for j in range(5):\n",
    "        kmeans = KMeans(n_clusters=i+2, random_state=j+1).fit(X)\n",
    "        labelsK = kmeans.labels_\n",
    "        \n",
    "        \n",
    "        \n",
    "        list_davies_kmeans.append(davies_bouldin_score(X, labelsK))\n",
    "        list_silhouette_kmeans.append(metrics.silhouette_score(X, labelsK, metric='euclidean'))\n",
    "    \n",
    "    \n",
    "    dataFrame_davies_kmeans = dataFrame_davies_kmeans.append({'mean': pd.Series(list_davies_kmeans).mean(),\n",
    "                                  'std':pd.Series(list_davies_kmeans).std(), 'n_clusters': i+2},\n",
    "                                 ignore_index=True)\n",
    "    dataFrame_silhouette_kmeans = dataFrame_silhouette_kmeans.append({'mean': pd.Series(list_silhouette_kmeans).mean(),\n",
    "                                  'std':pd.Series(list_silhouette_kmeans).std(), 'n_clusters': i+2},\n",
    "                                 ignore_index=True)"
   ]
  },
  {
   "cell_type": "code",
   "execution_count": null,
   "metadata": {},
   "outputs": [],
   "source": [
    "#dataFrame_davies_kmeans.set_index('n_clusters', inplace=True)\n",
    "dataFrame_davies_kmeans.to_csv('Davies_kmeans.csv')\n"
   ]
  },
  {
   "cell_type": "code",
   "execution_count": null,
   "metadata": {},
   "outputs": [],
   "source": [
    "dataFrame_silhouette_kmeans.to_csv('Silhouette_kmeans.csv')"
   ]
  },
  {
   "cell_type": "code",
   "execution_count": null,
   "metadata": {},
   "outputs": [],
   "source": [
    "from sklearn.cluster import AgglomerativeClustering\n",
    "dataFrame_davies_HC = pd.DataFrame(columns=['mean', 'std', 'n_clusters'])\n",
    "dataFrame_silhouette_HC = pd.DataFrame(columns=['mean', 'std', 'n_clusters'])\n",
    "\n",
    "\n",
    "list_davies_HC = []\n",
    "list_silhouette_HC = []\n",
    "for i in range(19):\n",
    "    HC = AgglomerativeClustering(n_clusters=i+2, linkage='single').fit(X)\n",
    "    labelsHC = HC.labels_\n",
    "        \n",
    "        \n",
    "    list_davies_HC.append(davies_bouldin_score(X, labelsHC))\n",
    "    list_silhouette_HC.append(metrics.silhouette_score(X, labelsHC, metric='euclidean'))\n",
    "        \n",
    "        \n",
    "    dataFrame_davies_HC = dataFrame_davies_HC.append({'mean': pd.Series(list_davies_HC).mean(),\n",
    "                                  'std':pd.Series(list_davies_HC).std(), 'n_clusters': i+2},\n",
    "                                 ignore_index=True)\n",
    "    dataFrame_silhouette_HC = dataFrame_silhouette_HC.append({'mean': pd.Series(list_silhouette_HC).mean(),\n",
    "                                  'std':pd.Series(list_silhouette_HC).std(), 'n_clusters': i+2},\n",
    "                                 ignore_index=True)"
   ]
  },
  {
   "cell_type": "code",
   "execution_count": null,
   "metadata": {},
   "outputs": [],
   "source": [
    "dataFrame_davies_HC.to_csv('Davies_HC.csv')"
   ]
  },
  {
   "cell_type": "code",
   "execution_count": null,
   "metadata": {},
   "outputs": [],
   "source": [
    "dataFrame_silhouette_HC.to_csv('Silhouette_HC.csv')"
   ]
  },
  {
   "cell_type": "code",
   "execution_count": null,
   "metadata": {},
   "outputs": [],
   "source": [
    "from sklearn.mixture import GaussianMixture\n",
    "dataFrame_davies_GM = pd.DataFrame(columns=['mean', 'std', 'n_clusters'])\n",
    "dataFrame_silhouette_GM = pd.DataFrame(columns=['mean', 'std', 'n_clusters'])\n",
    "\n",
    "list_davies_GM = []\n",
    "list_silhouette_GM = []\n",
    "for i in range(19):\n",
    "    for j in range(5):\n",
    "        GM = GaussianMixture(n_components=i+2, random_state=j+1).fit_predict(X)\n",
    "        \n",
    "        \n",
    "        list_davies_GM.append(davies_bouldin_score(X, GM))\n",
    "        list_silhouette_GM.append(metrics.silhouette_score(X, GM, metric='euclidean'))\n",
    "        \n",
    "    dataFrame_davies_GM = dataFrame_davies_GM.append({'mean': pd.Series(list_davies_GM).mean(),\n",
    "                                  'std':pd.Series(list_davies_GM).std(), 'n_clusters': i+2},\n",
    "                                 ignore_index=True)\n",
    "    dataFrame_silhouette_GM = dataFrame_silhouette_GM.append({'mean': pd.Series(list_silhouette_GM).mean(),\n",
    "                                  'std':pd.Series(list_silhouette_GM).std(), 'n_clusters': i+2},\n",
    "                                 ignore_index=True)"
   ]
  },
  {
   "cell_type": "code",
   "execution_count": null,
   "metadata": {},
   "outputs": [],
   "source": [
    "dataFrame_davies_GM.to_csv('Davies_GM.csv')"
   ]
  },
  {
   "cell_type": "code",
   "execution_count": null,
   "metadata": {},
   "outputs": [],
   "source": [
    "dataFrame_silhouette_GM.to_csv('Silhouette_GM.csv')"
   ]
  }
 ],
 "metadata": {
  "kernelspec": {
   "display_name": "Python 3",
   "language": "python",
   "name": "python3"
  },
  "language_info": {
   "codemirror_mode": {
    "name": "ipython",
    "version": 3
   },
   "file_extension": ".py",
   "mimetype": "text/x-python",
   "name": "python",
   "nbconvert_exporter": "python",
   "pygments_lexer": "ipython3",
   "version": "3.7.3"
  }
 },
 "nbformat": 4,
 "nbformat_minor": 2
}
